{
 "cells": [
  {
   "attachments": {},
   "cell_type": "markdown",
   "metadata": {},
   "source": [
    "### 1.function and method different:\n",
    "<br>\n",
    "* function 是可以單獨使用 如 Range(10) <br>\n",
    "* method 必續要前面有 obj.method 如 str.split(\"\\n\")"
   ]
  },
  {
   "attachments": {},
   "cell_type": "markdown",
   "metadata": {},
   "source": [
    "### 2.如何查詢使用方式:\n",
    "<br>\n",
    "* help(查詢的內容)<br>\n",
    "* 查詢 python documentation"
   ]
  },
  {
   "cell_type": "code",
   "execution_count": null,
   "metadata": {},
   "outputs": [],
   "source": [
    "# 為自定義function寫一些介紹內容\n",
    "def fun3(x):\n",
    "    # 這叫做 doctring\n",
    "    '''This function introduced'''\n",
    "    pass\n",
    "\n",
    "\n",
    "# 使用help function\n",
    "help(fun3)\n"
   ]
  },
  {
   "attachments": {},
   "cell_type": "markdown",
   "metadata": {},
   "source": [
    "### 3.如何寫自己的function?"
   ]
  },
  {
   "cell_type": "code",
   "execution_count": null,
   "metadata": {},
   "outputs": [],
   "source": [
    "# input => parameter 參數\n",
    "def fun_name(input):\n",
    "    pass\n",
    "\n",
    "\n",
    "# 執行 function execution,invokation\n",
    "# 在這裡給訂的input 值為arguments 執行function 給訂的值\n",
    "fun_name(input)\n"
   ]
  },
  {
   "attachments": {},
   "cell_type": "markdown",
   "metadata": {},
   "source": [
    "### 4.global variable and local variable"
   ]
  },
  {
   "cell_type": "code",
   "execution_count": null,
   "metadata": {},
   "outputs": [],
   "source": [
    "# global variable\n",
    "a = 5\n",
    "\n",
    "\n",
    "def fun1(x, y):\n",
    "    # local variable\n",
    "    x = 1\n",
    "    y = 2\n",
    "    print(x, y, a)\n",
    "\n",
    "# fun1()\n"
   ]
  },
  {
   "cell_type": "code",
   "execution_count": null,
   "metadata": {},
   "outputs": [],
   "source": [
    "# 存在copy by value or reference 的問題\n",
    "a = 10\n",
    "def fun2(x):\n",
    "    # 需要靠這個把全域變數引入\n",
    "    global a\n",
    "    a = 24\n",
    "\n",
    "\n",
    "fun2(a)\n",
    "print(a)"
   ]
  }
 ],
 "metadata": {
  "kernelspec": {
   "display_name": "env1",
   "language": "python",
   "name": "python3"
  },
  "language_info": {
   "name": "python",
   "version": "3.9.13"
  },
  "orig_nbformat": 4,
  "vscode": {
   "interpreter": {
    "hash": "794bc639cfa8d250a3d1ea8036bbcb68e77a70f8e71b735e1e208a103fb8b335"
   }
  }
 },
 "nbformat": 4,
 "nbformat_minor": 2
}
